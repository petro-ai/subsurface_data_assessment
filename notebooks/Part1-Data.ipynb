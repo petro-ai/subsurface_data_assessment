{
 "cells": [
  {
   "cell_type": "markdown",
   "metadata": {},
   "source": [
    "# Petro.ai Subsurface Data Assessment.\n",
    "\n",
    "## Part 1 - Data\n",
    "For this task, you will read data from example files that we work with regularly and visualize the contents.  It is recommended that you use Python for this step but can use another language or data analysis application (like Spotfire) if you wish.  Feel free to demonstrate your ability and creativity with the visualizations you create to tell the best story with this data. This could be anything from static plots to an interactive dashboard.   \n",
    "\n",
    "In the `data/part1/ folder`, you will find three files: \n",
    "* A LAS file containing well logs (`4200000000_Petro1.las`) \n",
    "* An attribute grid (`ATTR1_map.csv`) \n",
    "* Production data (`MonthlyProduction.csv`)  \n",
    "\n",
    "#### 1A) Well Log Data\n",
    "* Read the LAS file.   \n",
    "* Plot the Gamma Ray curve vs. Depth. \n",
    "* Extract the latitude/longitude of this well \n",
    "\n",
    " \n",
    "#### 1B) Attribute Grids\n",
    "* Read the attribute grid. \n",
    "* Plot the spatial variation of the ATTR1 property \n",
    "* Show the location of the well from part A. \n",
    "* **Bonus**: what is the value of ATTR1 at the well location from part A? \n",
    "\n",
    "#### 1C) Production Data\n",
    "* Read the production file. \n",
    "* Plot the monthly production from the well in part A \n",
    "* Determine the total production (oil, gas, water) for each well.  \n",
    "* Determine the total barrel of oil equivalent (BOE) produced for each well.  Use a suitable conversion factor to convert CF gas to BOE, and assume 1 bbl oil = 1 BOE.\n",
    "* Save this summary data to a csv file for all wells that produced more than 100,000 BOE.  How many wells have BOE > 100,000? \n",
    "* Determine the well with the highest total BOE. \n",
    "\n",
    "If you use Python for this step, feel free to use this notebook as a starter.  Please submit your code and the results that it generates.  You can just submit a notebook if you do all your work here.\n"
   ]
  },
  {
   "cell_type": "code",
   "execution_count": null,
   "metadata": {},
   "outputs": [],
   "source": []
  }
 ],
 "metadata": {
  "iooxa": {
   "id": {
    "block": "JD1qzumZZ1PxwiRyTXvm",
    "project": "isBg8ayBxEW5TP6pshIa",
    "version": 1
   }
  },
  "kernelspec": {
   "display_name": "Python 3 (ipykernel)",
   "language": "python",
   "name": "python3"
  },
  "language_info": {
   "codemirror_mode": {
    "name": "ipython",
    "version": 3
   },
   "file_extension": ".py",
   "mimetype": "text/x-python",
   "name": "python",
   "nbconvert_exporter": "python",
   "pygments_lexer": "ipython3",
   "version": "3.9.13"
  },
  "vscode": {
   "interpreter": {
    "hash": "527766b870161c38f8e2d69d4d8beb510c988151572a9e5bfddb9f7282339b48"
   }
  }
 },
 "nbformat": 4,
 "nbformat_minor": 2
}
