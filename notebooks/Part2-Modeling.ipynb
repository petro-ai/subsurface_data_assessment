{
 "cells": [
  {
   "cell_type": "code",
   "execution_count": null,
   "metadata": {},
   "outputs": [],
   "source": [
    "import pandas as pd\n",
    "import numpy as np\n",
    "import seaborn as sns\n",
    "import matplotlib.pyplot as plt\n",
    "\n",
    "from sklearn.ensemble import RandomForestRegressor\n",
    "from sklearn.metrics import r2_score, mean_squared_error, mean_absolute_percentage_error\n",
    "\n",
    "from petro_utils import compare_pred_results\n",
    "\n",
    "import seaborn as sns"
   ]
  },
  {
   "cell_type": "markdown",
   "metadata": {},
   "source": [
    "# Predicting Production with Machine Learning\n",
    "The core of Petro.ai's machine learning pipeline are multivariate models that predict production based on geologic and engineering features of wells from a region of interest.  This notebook walks through a simplified workflow for building one of these models.  Your task is to run the simplified model, and understand the steps and the generated results.  You can use this as a start to improve the model, and demonstrate your experience and data science skills.\n",
    "\n",
    "If need any clarification or have questions, feel free to reach out to Brendon at <brendon.hall@petro.ai>.\n",
    "\n",
    "## Data\n",
    "Petro.ai provides a download of well stats.  These are properties and attributes of the wells in the database.  These can be used as features to train predictive models. Well Stats contains one row per well with 100+ columns.  Don't worry, we won't use them all!\n",
    "\n",
    "Here is a brief description of some of the columns in well stats that we might consider for modeling.\n",
    " * `totalDrainage` - predicted drainage area for a well (using Petro.ai drainage model)\n",
    " * `prodOil12mo` - cumulative 12 month oil production\n",
    " * `avgHzDistAnyZone` - average distance to nearby wells\n",
    " * `latitude`, `longitude` - surface location of well head\n",
    " * `angleFromSHMax` - angle between well azimuth and maximum horizontal stress direction\n",
    "\n",
    "\n",
    "Well stats contains a raw download of all the wells in the collection.  There might be missing data, and we can transform these features before training a model.\n",
    "\n",
    "As a first step, let's read the file `data/part2/well_stats_delaware.csv` into a pandas dataframe."
   ]
  },
  {
   "cell_type": "code",
   "execution_count": null,
   "metadata": {},
   "outputs": [],
   "source": [
    "# read the well stats data, save to a pandas dataframe\n",
    "df = pd.read_csv('../data/part2/well_stats.csv') # answer\n",
    "\n",
    "# print the number of rows and columns in this dataframe.\n",
    "print(f\"There are {df.shape[0]} rows and {df.shape[1]} columns in the raw well stats file.\")"
   ]
  },
  {
   "cell_type": "markdown",
   "metadata": {},
   "source": [
    "Let's rename the `totalDrainage` column to `drainage_area` to be more clear."
   ]
  },
  {
   "cell_type": "code",
   "execution_count": null,
   "metadata": {},
   "outputs": [],
   "source": [
    "# rename the 'totalDrainage' column to 'drainage_area'\n",
    "df.rename(columns={'totalDrainage':'drainage_area'}, inplace=True)"
   ]
  },
  {
   "cell_type": "markdown",
   "metadata": {},
   "source": [
    "## Data Exploration\n",
    "For an initial model we'll start with a few features from well stats described above:\n",
    "\n",
    "- drainage area\n",
    "- totalProppantByPerfLength\n",
    "- avgHzDistAnyZone\n",
    "- latitude\n",
    "- longitude\n",
    "- angleFromSHMax\n",
    "\n",
    "There are many more we can try, but this will get us started.  For the first model,\n",
    "let's try and predict 12 month cumulative oil production `prodOil12mo` directly.\n",
    "\n",
    "First, plot the distribution of these features with respect to the `prodOil12mo` target."
   ]
  },
  {
   "cell_type": "code",
   "execution_count": null,
   "metadata": {},
   "outputs": [],
   "source": [
    "feature_names = ['drainage_area', 'totalProppantByPerfLength', 'avgHzDistAnyZone', 'latitude', 'longitude', 'angleFromSHMax']\n",
    "\n",
    "target = 'prodOil12mo'\n",
    "\n",
    "g = sns.pairplot(df, x_vars=feature_names, y_vars=target, hue='interval')\n",
    "plt.show()"
   ]
  },
  {
   "cell_type": "markdown",
   "metadata": {},
   "source": [
    "Did you notice any significant trends in these features?  Any outliers or potential issues? There are a number of wells with zero drainage, we'll filter those out.\n",
    "\n",
    "Feel free to experiment with other types of plots, features, etc.\n",
    "\n",
    "**[Debug Question]** In the next cell, we want to find the 12 mo. cumulative oil production for a specific well with `wellAPI` = 4200000036.  There is a bug in this code though.  Can you fix it to output the correct production amount?"
   ]
  },
  {
   "cell_type": "code",
   "execution_count": null,
   "metadata": {},
   "outputs": [],
   "source": [
    "well_production = df[df['wellAPI'] == \"4200000036\"][\"prodOil12mo\"].values[0]\n",
    "\n",
    "print(\"The production of the well with API 4200000036 is:\", well_production)"
   ]
  },
  {
   "cell_type": "markdown",
   "metadata": {},
   "source": [
    "## Data Filtering\n",
    "\n",
    "Remove any wells with zero drainage_area from the dataset."
   ]
  },
  {
   "cell_type": "code",
   "execution_count": null,
   "metadata": {},
   "outputs": [],
   "source": [
    "# Remove wells with zero drainage area\n",
    "df = df[df['drainage_area'] > 0].copy()"
   ]
  },
  {
   "cell_type": "markdown",
   "metadata": {},
   "source": [
    "Now remove any wells that are missing data for any of the features or target from the dataset.  How many wells are left in the dataset?"
   ]
  },
  {
   "cell_type": "code",
   "execution_count": null,
   "metadata": {},
   "outputs": [],
   "source": [
    "# Remove wells missing features or production\n",
    "df.dropna(subset=feature_names+[target], inplace=True)\n",
    "print(f\"There are {df.shape[0]} rows in the cleaned well stats file.\")"
   ]
  },
  {
   "cell_type": "markdown",
   "metadata": {},
   "source": [
    "## Prepare Training Data\n",
    "\n",
    "Now the dataset is ready to train a model.  Extract the features, $X$, and the \"target\" to be predicted, $y$, from the dataframe.  For now, we'll randomly select a third of the wells and set them aside to test the accuracy of the model.  We'll use the remainder as training data."
   ]
  },
  {
   "cell_type": "code",
   "execution_count": null,
   "metadata": {},
   "outputs": [],
   "source": [
    "from sklearn.model_selection import train_test_split\n",
    "\n",
    "X = df[feature_names]\n",
    "y = df[target]\n",
    "\n",
    "X_train, X_test, y_train, y_test = train_test_split(\n",
    "    X, y, test_size=0.33, random_state=42)"
   ]
  },
  {
   "cell_type": "markdown",
   "metadata": {},
   "source": [
    "## Train Random Forest Model\n",
    "\n",
    "Let's start simple. We'll build a simple random forest model and take a look at the prediction accuracy. "
   ]
  },
  {
   "cell_type": "code",
   "execution_count": null,
   "metadata": {},
   "outputs": [],
   "source": [
    "rf_model = RandomForestRegressor()\n",
    "\n",
    "rf_model.fit(X_train, y_train)\n",
    "\n",
    "y_train_pred = rf_model.predict(X_train)\n",
    "y_test_pred = rf_model.predict(X_test)\n",
    "\n"
   ]
  },
  {
   "cell_type": "markdown",
   "metadata": {},
   "source": [
    "## Model Evaluation\n",
    "What is the $R^2$ score of this regression?  What is the error (or accuracy) of the result?"
   ]
  },
  {
   "cell_type": "code",
   "execution_count": null,
   "metadata": {},
   "outputs": [],
   "source": [
    "# mean_absolute_percentage_error(y_test, y_test_pred)\n",
    "r2 = r2_score(y_train, y_train_pred)\n",
    "acc =  1- mean_absolute_percentage_error(y_train, y_train_pred)\n",
    "print(f\"Train data: the r2 score is {r2:.3f}, the accuracy is {acc:.3f}\")\n",
    "\n",
    "r2 = r2_score(y_test, y_test_pred)\n",
    "acc =  1- mean_absolute_percentage_error(y_test, y_test_pred)\n",
    "print(f\"Test data: the r2 score is {r2:.3f}, the accuracy is {acc:.3f}\")"
   ]
  },
  {
   "cell_type": "markdown",
   "metadata": {},
   "source": [
    "Use the utility `compare_pred_results` function to plot the predicted vs. actual production."
   ]
  },
  {
   "cell_type": "code",
   "execution_count": null,
   "metadata": {},
   "outputs": [],
   "source": [
    "compare_pred_results(y_train, y_train_pred, y_test, y_test_pred, scale_factor=1e3, title=\"Predicted vs. Actual 12 mo. cumulative production\",\n",
    "                     xlabel=\"Actual 12 mo. oil [Mbbl]\", ylabel=\"Predicted 12 mo. oil [Mbbl]\")"
   ]
  },
  {
   "cell_type": "markdown",
   "metadata": {},
   "source": [
    "The accuracy on the training data is significantly higher than the test data.  Random forest models are notorious for over-fitting. Do you notice any other interesting trends in these results?  There is plenty of room for improvement.  So far, we've guided you through building a simple model.  Now you can unleash your own skills and creativity to build a model that improves on these results.  Feel free to improve on the random forest model and/or use another library.  Be prepared to discuss your approach, what you tried, the pros/cons of your modeling approach, etc.\n",
    "\n",
    "Some things you might try:\n",
    "- hyperparameter tuning\n",
    "- additional/different features from well stats\n",
    "- feature selection/engineering\n",
    "- proper cross-validation\n",
    "\n",
    "You might also consider doing some error analysis.  Is the model making any big mistakes?  Is it due to bad training data or is there a systematic bias?  Can you explain why the model is making the decisions that it is?  Are some features more important than others in terms of making decisions?\n",
    "\n",
    "Prepare a short presentation that demonstrates your data exploration, modeling and analysis efforts. Tell a story with the data. What are your insights on the problem/dataset?  Be prepared to answer questions on your approach and assumptions.  Think about how you would continue this work if you had more time and resources.  You'll give a brief presentation to a couple members of the Petro.ai team, and then we'll discussion around your experience with this task."
   ]
  }
 ],
 "metadata": {
  "kernelspec": {
   "display_name": "Python 3.9.13 ('geoml')",
   "language": "python",
   "name": "python3"
  },
  "language_info": {
   "codemirror_mode": {
    "name": "ipython",
    "version": 3
   },
   "file_extension": ".py",
   "mimetype": "text/x-python",
   "name": "python",
   "nbconvert_exporter": "python",
   "pygments_lexer": "ipython3",
   "version": "3.9.13"
  },
  "vscode": {
   "interpreter": {
    "hash": "527766b870161c38f8e2d69d4d8beb510c988151572a9e5bfddb9f7282339b48"
   }
  }
 },
 "nbformat": 4,
 "nbformat_minor": 2
}
